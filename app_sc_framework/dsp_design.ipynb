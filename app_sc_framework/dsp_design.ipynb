{
 "cells": [
  {
   "cell_type": "markdown",
   "id": "ccc61334-38ac-4c86-a86a-bd2975d5a60d",
   "metadata": {},
   "source": [
    "# sw_audio_dsp pipeline designer\n",
    "\n",
    "In this file you can generate the DSP pipeline of your choice.\n",
    "\n",
    "Below you will find 4 cells which can be modified and executed to configure, tune and run the desired pipeline.\n",
    "\n"
   ]
  },
  {
   "cell_type": "markdown",
   "id": "0acbc09d",
   "metadata": {},
   "source": [
    "1. This is the pipeline design cell. Here you must break the DSP pipeline down into threads and use the provided DSP stages to create a pipeline. Running this cell will produce a diagram showing your pipeline. Make sure to capture each stage in your pipeline as a variable, as it will be needed in the next step.\n",
    "Note that every time the pipeline cell is changed, the app must be regenerated before the tuning stage can work correctly as the stage indices used for communication may have changed."
   ]
  },
  {
   "cell_type": "code",
   "execution_count": null,
   "id": "f3806bd0-99e0-42b6-a084-e9a2f17ba7dc",
   "metadata": {},
   "outputs": [],
   "source": [
    "# Pipeline design stage\n",
    "\n",
    "from audio_dsp.design.pipeline import Pipeline\n",
    "from audio_dsp.stages.signal_chain import Fork, VolumeControl, Switch, Adder, Mixer, Bypass\n",
    "from audio_dsp.stages.noise_gate import NoiseGate\n",
    "from audio_dsp.stages.cascaded_biquads import CascadedBiquads\n",
    "from audio_dsp.stages.compressor_sidechain import CompressorSidechain\n",
    "from audio_dsp.stages.envelope_detector import EnvelopeDetectorRMS\n",
    "\n",
    "# 6 inputs\n",
    "# 0, 1: USB \n",
    "# 2, 3: live  (IN 1/2)\n",
    "# 4   : Mic   (In 3)\n",
    "# 5   : N/A\n",
    "p = Pipeline(6)\n",
    "\n",
    "with p.add_thread() as t:\n",
    "    mus_0 = t.stage(Adder, [p.i[0], p.i[2]])\n",
    "    mus_1 = t.stage(Adder, [p.i[1], p.i[3]])\n",
    "    mic_vc = t.stage(VolumeControl, p.i[4], label=\"mic_vc\")\n",
    "    music_vc = t.stage(VolumeControl, mus_0.o + mus_1.o, label=\"music_vc\")\n",
    "    f_mic = t.stage(Fork, mic_vc.o)\n",
    "    env_mic = t.stage(EnvelopeDetectorRMS, f_mic.forks[1], label=\"mic_vu\")\n",
    "    peq = t.stage(CascadedBiquads, f_mic.forks[0])\n",
    "    \n",
    "    f_ng = t.stage(Fork, peq.o)\n",
    "    ng = t.stage(NoiseGate, f_ng.forks[1])\n",
    "    ng_sw = t.stage(Switch, f_ng.forks[0] + ng.o, label=\"denoise_enable\")\n",
    "    \n",
    "    f_reverb = t.stage(Fork, ng_sw.o)\n",
    "    reverb = t.stage(Bypass, f_reverb.forks[1], label=\"reverb_placeholder\")\n",
    "    reverb_sw = t.stage(Switch, f_reverb.forks[0] + reverb.o, label=\"reverb_enable\")\n",
    "\n",
    "with p.add_thread() as t:\n",
    "    f_ng = t.stage(Fork, reverb_sw.o, count=6)\n",
    "    \n",
    "    f_music = t.stage(Fork, music_vc.o)\n",
    "    duck0 = t.stage(CompressorSidechain, [f_music.forks[1][0]] + f_ng.forks[0])\n",
    "    duck1 = t.stage(CompressorSidechain, [f_music.forks[1][1]] + f_ng.forks[1])\n",
    "    duck_sw0 = t.stage(Switch, [f_music.forks[0][0]] + duck0.o, label=\"duck0_enable\")\n",
    "    duck_sw1 = t.stage(Switch, [f_music.forks[0][1]] + duck1.o, label=\"duck1_enable\")\n",
    "    \n",
    "    f_dck = t.stage(Fork, duck_sw0.o + duck_sw1.o)\n",
    "    loopback_0 = t.stage(Adder, [f_dck.forks[1][0]] + f_ng.forks[2])\n",
    "    loopback_1 = t.stage(Adder, [f_dck.forks[1][1]] + f_ng.forks[3])\n",
    "    sw0 = t.stage(Switch, f_ng.forks[4] + loopback_0.o, label=\"game_loopback_switch_ch0\")\n",
    "    sw1 = t.stage(Switch, f_ng.forks[5] + loopback_1.o, label=\"game_loopback_switch_ch1\")\n",
    "    monitor_vc = t.stage(VolumeControl, f_dck.forks[0], label=\"monitor_vc\")\n",
    "    output_vc = t.stage(VolumeControl, sw0.o + sw1.o, label=\"output_vc\")\n",
    "    f_monvc = t.stage(Fork, monitor_vc.o[0])\n",
    "    env_out = t.stage(EnvelopeDetectorRMS, f_monvc.forks[1], label=\"out_vu\")\n",
    "    f_output = t.stage(Fork, output_vc.o, count=2)\n",
    "    live_out = t.stage(Mixer, f_output.forks[1])\n",
    "\n",
    "# 0, 1: USB\n",
    "# 2, 3: headphone (OUT 1/2)\n",
    "# 4   : live      (OUT 3)\n",
    "p.set_outputs(f_output.forks[0] + f_monvc.forks[0] + [monitor_vc.o[1]] + live_out.o + [None])\n",
    "p.draw()\n"
   ]
  },
  {
   "cell_type": "markdown",
   "id": "27e9d385",
   "metadata": {},
   "source": [
    "2. This is the tuning cell. First time through this can be ignored, but once your pipeline is running on a connected device, this cell can be updated and executed to update each pipeline stage live."
   ]
  },
  {
   "cell_type": "code",
   "execution_count": null,
   "id": "89d245d6-b908-4815-ae22-fa10e40d65dc",
   "metadata": {},
   "outputs": [],
   "source": [
    "# Tuning stage\n",
    "\n",
    "env_mic.make_env_det_rms(0.3, 0.3)\n",
    "env_out.make_env_det_rms(0.3, 0.3)\n",
    "peq.make_parametric_eq([[\"highpass\", 50, 0.707]])\n",
    "ng.make_noise_gate(-30, 0.005, 0.12)\n",
    "duck0.make_compressor_sidechain(5, -30, 0.01, 0.5)\n",
    "duck1.make_compressor_sidechain(5, -30, 0.01, 0.5)\n",
    "sw0.move_switch(1)\n",
    "sw1.move_switch(1)\n",
    "ng_sw.move_switch(1)\n",
    "reverb_sw.move_switch(1)\n",
    "duck_sw0.move_switch(1)\n",
    "duck_sw1.move_switch(1)\n",
    "\n"
   ]
  },
  {
   "cell_type": "markdown",
   "id": "2113ddc3",
   "metadata": {},
   "source": [
    "3. This is the build and run cell. This stage generates an application which uses your pipeline, and it runs the application on a connected device using xrun. The tuning parameters set in the previous cell are baked in the application."
   ]
  },
  {
   "cell_type": "code",
   "execution_count": null,
   "id": "32492495-d82a-45ba-87e3-80b01de38981",
   "metadata": {},
   "outputs": [],
   "source": [
    "# Build and run\n",
    "\n",
    "from audio_dsp.design.pipeline import generate_dsp_main\n",
    "# from build_utils import build_and_try_run\n",
    "\n",
    "generate_dsp_main(p, out_dir=\"src/audio_dsp/dsp_pipeline\")\n",
    "# build_and_try_run()\n"
   ]
  },
  {
   "cell_type": "code",
   "execution_count": null,
   "id": "511d7467-7632-44ff-96b2-a43c0e261967",
   "metadata": {},
   "outputs": [],
   "source": []
  }
 ],
 "metadata": {
  "kernelspec": {
   "display_name": "Python 3 (ipykernel)",
   "language": "python",
   "name": "python3"
  },
  "language_info": {
   "codemirror_mode": {
    "name": "ipython",
    "version": 3
   },
   "file_extension": ".py",
   "mimetype": "text/x-python",
   "name": "python",
   "nbconvert_exporter": "python",
   "pygments_lexer": "ipython3",
   "version": "3.12.0"
  }
 },
 "nbformat": 4,
 "nbformat_minor": 5
}
